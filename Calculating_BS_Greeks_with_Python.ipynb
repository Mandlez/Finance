{
  "nbformat": 4,
  "nbformat_minor": 0,
  "metadata": {
    "colab": {
      "provenance": [],
      "authorship_tag": "ABX9TyPnj4xqKqaOwbW4A+i9DrLI",
      "include_colab_link": true
    },
    "kernelspec": {
      "name": "python3",
      "display_name": "Python 3"
    },
    "language_info": {
      "name": "python"
    }
  },
  "cells": [
    {
      "cell_type": "markdown",
      "metadata": {
        "id": "view-in-github",
        "colab_type": "text"
      },
      "source": [
        "<a href=\"https://colab.research.google.com/github/Mandlez/Finance/blob/main/Calculating_BS_Greeks_with_Python.ipynb\" target=\"_parent\"><img src=\"https://colab.research.google.com/assets/colab-badge.svg\" alt=\"Open In Colab\"/></a>"
      ]
    },
    {
      "cell_type": "code",
      "execution_count": 37,
      "metadata": {
        "colab": {
          "base_uri": "https://localhost:8080/"
        },
        "id": "FScnYgZxTsHq",
        "outputId": "b32447ec-9747-4dcf-ba20-e41e4e311ffa"
      },
      "outputs": [
        {
          "output_type": "stream",
          "name": "stdout",
          "text": [
            "Requirement already satisfied: py_vollib in /usr/local/lib/python3.10/dist-packages (1.0.1)\n",
            "Requirement already satisfied: py-lets-be-rational in /usr/local/lib/python3.10/dist-packages (from py_vollib) (1.0.1)\n",
            "Requirement already satisfied: simplejson in /usr/local/lib/python3.10/dist-packages (from py_vollib) (3.19.2)\n",
            "Requirement already satisfied: numpy in /usr/local/lib/python3.10/dist-packages (from py_vollib) (1.23.5)\n",
            "Requirement already satisfied: pandas in /usr/local/lib/python3.10/dist-packages (from py_vollib) (1.5.3)\n",
            "Requirement already satisfied: scipy in /usr/local/lib/python3.10/dist-packages (from py_vollib) (1.11.4)\n",
            "Requirement already satisfied: python-dateutil>=2.8.1 in /usr/local/lib/python3.10/dist-packages (from pandas->py_vollib) (2.8.2)\n",
            "Requirement already satisfied: pytz>=2020.1 in /usr/local/lib/python3.10/dist-packages (from pandas->py_vollib) (2023.3.post1)\n",
            "Requirement already satisfied: six>=1.5 in /usr/local/lib/python3.10/dist-packages (from python-dateutil>=2.8.1->pandas->py_vollib) (1.16.0)\n"
          ]
        }
      ],
      "source": [
        "!pip install py_vollib\n",
        "from py_vollib.black_scholes import black_scholes as bs\n",
        "from py_vollib.black_scholes.greeks.analytical import delta, gamma, vega, theta, rho"
      ]
    },
    {
      "cell_type": "code",
      "source": [
        "# Implementation of Black-Scholes formula in Python\n",
        "import numpy as np\n",
        "from scipy.stats import norm\n",
        "from py_vollib.black_scholes import black_scholes as bs\n",
        "from py_vollib.black_scholes.greeks.analytical import delta, gamma, vega, theta, rho"
      ],
      "metadata": {
        "id": "t-bZ988IT1FL"
      },
      "execution_count": 38,
      "outputs": []
    },
    {
      "cell_type": "markdown",
      "source": [
        "Define the variables"
      ],
      "metadata": {
        "id": "uTeT7kF5Uxo-"
      }
    },
    {
      "cell_type": "code",
      "source": [
        "r = 0.03\n",
        "S = 45\n",
        "K = 40\n",
        "T = 2\n",
        "sigma = 0.1"
      ],
      "metadata": {
        "id": "vHAHxkBHUYeJ"
      },
      "execution_count": 39,
      "outputs": []
    },
    {
      "cell_type": "code",
      "source": [
        "def blackScholes(r, S, K, T, sigma, type=\"p\"):\n",
        "    \"Calculate BS price of call/put\"\n",
        "    d1 = (np.log(S/K) + (r + sigma**2/2)*T)/(sigma*np.sqrt(T))\n",
        "    d2 = d1 - sigma*np.sqrt(T)\n",
        "    try:\n",
        "        if type == \"c\":\n",
        "            price = S*norm.cdf(d1, 0, 1) - K*np.exp(-r*T)*norm.cdf(d2, 0, 1)\n",
        "        elif type == \"p\":\n",
        "            price = K*np.exp(-r*T)*norm.cdf(-d2, 0, 1) - S*norm.cdf(-d1, 0, 1)\n",
        "        return price, bs(type, S, K, T, r, sigma)\n",
        "    except:\n",
        "        print(\"Please confirm option type, either 'c' for Call or 'p' for Put!\")"
      ],
      "metadata": {
        "id": "P9HUr12mUbAc"
      },
      "execution_count": 40,
      "outputs": []
    },
    {
      "cell_type": "code",
      "source": [
        "print(\"Option Price: \", blackScholes(r, S, K, T, sigma, \"c\"))"
      ],
      "metadata": {
        "colab": {
          "base_uri": "https://localhost:8080/"
        },
        "id": "QYnM1X6JU-rm",
        "outputId": "e104acf9-9f86-41b9-80d7-0b63ec774b2e"
      },
      "execution_count": 41,
      "outputs": [
        {
          "output_type": "stream",
          "name": "stdout",
          "text": [
            "Option Price:  (7.619123115472362, 7.619123115472356)\n"
          ]
        }
      ]
    },
    {
      "cell_type": "markdown",
      "source": [
        "# Delta\n",
        "\n",
        "Delta measures the rate of change of the theoretical option value with respect to changes in the underlying asset's price.\n",
        "\n",
        "\n",
        "$\\Delta = \\frac{\\partial V}{\\partial S}$\n",
        "\n",
        "$\\Delta_{call} = \\Phi(d1)$\n",
        "\n",
        "$\\Delta_{put} = -\\Phi(-d1)$"
      ],
      "metadata": {
        "id": "C22G9wZAVgVX"
      }
    },
    {
      "cell_type": "code",
      "source": [
        "def delta_calc(r, S, K, T, sigma, type=\"p\"):\n",
        "    \"Calculate delta of an option\"\n",
        "    d1 = (np.log(S/K) + (r + sigma**2/2)*T)/(sigma*np.sqrt(T))\n",
        "    try:\n",
        "        if type == \"c\":\n",
        "            delta_calc = norm.cdf(d1, 0, 1)\n",
        "        elif type == \"p\":\n",
        "            delta_calc = -norm.cdf(-d1, 0, 1)\n",
        "        return delta_calc, delta(type, S, K, T, r, sigma)\n",
        "    except:\n",
        "        print(\"Please confirm option type, either 'c' for Call or 'p' for Put!\")"
      ],
      "metadata": {
        "id": "sFvqp67QVhKZ"
      },
      "execution_count": 42,
      "outputs": []
    },
    {
      "cell_type": "markdown",
      "source": [
        "# Gamma\n",
        "\n",
        "Gamma measures the rate of change in the delta with respect to changes in the underlying price.\n",
        "\n",
        "$\\Gamma = \\frac{\\partial \\Delta}{\\partial S} = \\frac{\\partial^2 V}{\\partial S^2}$\n",
        "\n",
        "$\\Gamma = \\frac{\\phi(d1)}{S\\sigma\\sqrt{\\tau}}$\n",
        "\n",
        "\n",
        "\n",
        "\n"
      ],
      "metadata": {
        "id": "N9R1nAEjWoPv"
      }
    },
    {
      "cell_type": "code",
      "source": [
        "def gamma_calc(r, S, K, T, sigma, type=\"p\"):\n",
        "    \"Calculate gamma of a option\"\n",
        "    d1 = (np.log(S/K) + (r + sigma**2/2)*T)/(sigma*np.sqrt(T))\n",
        "    d2 = d1 - sigma*np.sqrt(T)\n",
        "    try:\n",
        "        gamma_calc = norm.pdf(d1, 0, 1)/(S*sigma*np.sqrt(T))\n",
        "        return gamma_calc, gamma(type, S, K, T, r, sigma)\n",
        "    except:\n",
        "        print(\"Please confirm option type, either 'c' for Call or 'p' for Put!\")"
      ],
      "metadata": {
        "id": "FG2wFPp2WwRv"
      },
      "execution_count": 43,
      "outputs": []
    },
    {
      "cell_type": "markdown",
      "source": [
        "# Vega\n",
        "\n",
        "Vega measures sensitivity to volatility. Vega is the derivative of the option value with respect to the volatility of the underlying asset.\n",
        "\n",
        "$\\upsilon = \\frac{\\partial V}{\\partial \\sigma}$\n",
        "\n",
        "$\\upsilon = S\\phi(d1)\\sqrt{\\tau}$\n",
        "\n",
        "\n"
      ],
      "metadata": {
        "id": "cQ7E7Yh9XCD_"
      }
    },
    {
      "cell_type": "code",
      "source": [
        "def vega_calc(r, S, K, T, sigma, type=\"p\"):\n",
        "    \"Calculate BS price of call/put\"\n",
        "    d1 = (np.log(S/K) + (r + sigma**2/2)*T)/(sigma*np.sqrt(T))\n",
        "    d2 = d1 - sigma*np.sqrt(T)\n",
        "    try:\n",
        "        vega_calc = S*norm.pdf(d1, 0, 1)*np.sqrt(T)\n",
        "        return vega_calc*0.01, vega(type, S, K, T, r, sigma)\n",
        "    except:\n",
        "        print(\"Please confirm option type, either 'c' for Call or 'p' for Put!\")"
      ],
      "metadata": {
        "id": "sP-MBpEuXNzq"
      },
      "execution_count": 44,
      "outputs": []
    },
    {
      "cell_type": "markdown",
      "source": [
        "# Theta\n",
        "\n",
        "Theta measures the sensitivity of the value of the derivative to the passage of time - time decay.\n",
        "\n",
        "$\\Theta = -\\frac{\\partial V}{\\partial \\tau}$\n",
        "\n",
        "$\\Theta_{call} = -\\frac{S\\phi(d1)\\sigma}{2\\tau} - rK\\exp{(-rT)}\\Phi(d2)$\n",
        "\n",
        "$\\Theta_{put} = -\\frac{S\\phi(d1)\\sigma}{2\\tau} + rK\\exp{(-rT)}\\Phi(-d2)$\n",
        "\n"
      ],
      "metadata": {
        "id": "4L0Sif6cXwBm"
      }
    },
    {
      "cell_type": "code",
      "source": [
        "def theta_calc(r, S, K, T, sigma, type=\"p\"):\n",
        "    \"Calculate BS price of call/put\"\n",
        "    d1 = (np.log(S/K) + (r + sigma**2/2)*T)/(sigma*np.sqrt(T))\n",
        "    d2 = d1 - sigma*np.sqrt(T)\n",
        "    try:\n",
        "        if type == \"c\":\n",
        "            theta_calc = -S*norm.pdf(d1, 0, 1)*sigma/(2*np.sqrt(T)) - r*K*np.exp(-r*T)*norm.cdf(d2, 0, 1)\n",
        "        elif type == \"p\":\n",
        "            theta_calc = -S*norm.pdf(d1, 0, 1)*sigma/(2*np.sqrt(T)) + r*K*np.exp(-r*T)*norm.cdf(-d2, 0, 1)\n",
        "        return theta_calc/365, theta(type, S, K, T, r, sigma)\n",
        "    except:\n",
        "        print(\"Please confirm option type, either 'c' for Call or 'p' for Put!\")"
      ],
      "metadata": {
        "id": "e0YziZ45YGql"
      },
      "execution_count": 45,
      "outputs": []
    },
    {
      "cell_type": "markdown",
      "source": [
        "# Rho\n",
        "\n",
        "Rho measures the sensitivity to the interest rate.\n",
        "\n",
        "$\\rho = \\frac{\\partial V}{\\partial r}$\n",
        "\n",
        "$\\rho_{call} = K\\tau\\exp{(-rT)}\\Phi(d2)$\n",
        "\n",
        "$\\rho_{put} = -K\\tau\\exp{(-rT)}\\Phi(-d2)$\n",
        "\n",
        "\n",
        "\n"
      ],
      "metadata": {
        "id": "kgI53IcLYU4Y"
      }
    },
    {
      "cell_type": "code",
      "source": [
        "def rho_calc(r, S, K, T, sigma, type=\"p\"):\n",
        "    \"Calculate BS price of call/put\"\n",
        "    d1 = (np.log(S/K) + (r + sigma**2/2)*T)/(sigma*np.sqrt(T))\n",
        "    d2 = d1 - sigma*np.sqrt(T)\n",
        "    try:\n",
        "        if type == \"c\":\n",
        "            rho_calc = K*T*np.exp(-r*T)*norm.cdf(d2, 0, 1)\n",
        "        elif type == \"p\":\n",
        "            rho_calc = -K*T*np.exp(-r*T)*norm.cdf(-d2, 0, 1)\n",
        "        return rho_calc*0.01, rho(type, S, K, T, r, sigma)\n",
        "    except:\n",
        "        print(\"Please confirm option type, either 'c' for Call or 'p' for Put!\")"
      ],
      "metadata": {
        "id": "9UzOSHewZNv1"
      },
      "execution_count": 46,
      "outputs": []
    },
    {
      "cell_type": "markdown",
      "source": [
        "# All together"
      ],
      "metadata": {
        "id": "Q8I7WUV5Yshh"
      }
    },
    {
      "cell_type": "code",
      "source": [
        "option_type='p'\n",
        "\n",
        "print(\"Option Price: \", [round(x,3) for x in blackScholes(r, S, K, T, sigma, option_type)])\n",
        "print(\"       Delta: \", [round(x,3) for x in delta_calc(r, S, K, T, sigma, option_type)])\n",
        "print(\"       Gamma: \", [round(x,3) for x in gamma_calc(r, S, K, T, sigma, option_type)])\n",
        "print(\"       Vega : \", [round(x,3) for x in vega_calc(r, S, K, T, sigma, option_type)])\n",
        "print(\"       Theta: \", [round(x,3) for x in theta_calc(r, S, K, T, sigma, option_type)])\n",
        "print(\"       Rho  : \", [round(x,3) for x in rho_calc(r, S, K, T, sigma, option_type)])\n",
        "\n"
      ],
      "metadata": {
        "colab": {
          "base_uri": "https://localhost:8080/"
        },
        "id": "qGfo1FADYxSz",
        "outputId": "cd8d0360-34c5-4188-c0f3-7b52972f1a6e"
      },
      "execution_count": 51,
      "outputs": [
        {
          "output_type": "stream",
          "name": "stdout",
          "text": [
            "Option Price:  [0.29, 0.29]\n",
            "       Delta:  [-0.092, -0.092]\n",
            "       Gamma:  [0.026, 0.026]\n",
            "       Vega :  [0.105, 0.105]\n",
            "       Theta:  [-0.0, -0.0]\n",
            "       Rho  :  [-0.089, -0.089]\n"
          ]
        }
      ]
    },
    {
      "cell_type": "code",
      "source": [],
      "metadata": {
        "id": "HXmgua3UYx6Q"
      },
      "execution_count": 47,
      "outputs": []
    }
  ]
}